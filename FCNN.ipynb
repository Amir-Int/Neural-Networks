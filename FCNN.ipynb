{
  "nbformat": 4,
  "nbformat_minor": 0,
  "metadata": {
    "colab": {
      "name": "FCNN.ipynb",
      "provenance": [],
      "collapsed_sections": [],
      "authorship_tag": "ABX9TyMRXJt3GoafHFS78oOnAekQ"
    },
    "kernelspec": {
      "name": "python3",
      "display_name": "Python 3"
    },
    "language_info": {
      "name": "python"
    },
    "accelerator": "GPU"
  },
  "cells": [
    {
      "cell_type": "markdown",
      "source": [
        "# Fully Conencted Neural Network\n",
        "This section models a Simple fully connected neural network"
      ],
      "metadata": {
        "id": "Pys1yBShXn3t"
      }
    },
    {
      "cell_type": "markdown",
      "source": [
        "## Downloading and extracting the CIFAR10 dataset"
      ],
      "metadata": {
        "id": "UMFqhBGlXvl0"
      }
    },
    {
      "cell_type": "code",
      "source": [
        "!gdown --id 1Y1vgzPvMeVcXSxDfOlCVia7wsU7p8M6g -O CIFAR10.tar.gz"
      ],
      "metadata": {
        "colab": {
          "base_uri": "https://localhost:8080/"
        },
        "id": "UpN3CIzcm2Vs",
        "outputId": "550db42c-7306-401c-ea0a-6cc022e79fdf"
      },
      "execution_count": null,
      "outputs": [
        {
          "output_type": "stream",
          "name": "stdout",
          "text": [
            "/usr/local/lib/python3.7/dist-packages/gdown/cli.py:131: FutureWarning: Option `--id` was deprecated in version 4.3.1 and will be removed in 5.0. You don't need to pass it anymore to use a file ID.\n",
            "  category=FutureWarning,\n",
            "Downloading...\n",
            "From: https://drive.google.com/uc?id=1Y1vgzPvMeVcXSxDfOlCVia7wsU7p8M6g\n",
            "To: /content/CIFAR10.tar.gz\n",
            "100% 19.8M/19.8M [00:00<00:00, 61.5MB/s]\n"
          ]
        }
      ]
    },
    {
      "cell_type": "code",
      "source": [
        "!tar xzf CIFAR10.tar.gz"
      ],
      "metadata": {
        "id": "YLPnvVngdsk0"
      },
      "execution_count": null,
      "outputs": []
    },
    {
      "cell_type": "markdown",
      "source": [
        "# Programming the model"
      ],
      "metadata": {
        "id": "fmvA2Gcydq1E"
      }
    },
    {
      "cell_type": "markdown",
      "source": [
        "## Initial setup\n",
        "Configuring the network hyperparameters"
      ],
      "metadata": {
        "id": "g-1vPGE_X7oU"
      }
    },
    {
      "cell_type": "code",
      "source": [
        "import matplotlib.pyplot as pyplot\n",
        "import matplotlib.image as mplimage\n",
        "import numpy as np\n",
        "import os\n",
        "\n",
        "# Input data charecteristics:\n",
        "width = 32\n",
        "height = 32\n",
        "channels = 3\n",
        "n_train_samples = 20000\n",
        "n_test_samples = 4000\n",
        "n_classes = 4\n",
        "n_actual = 20000\n",
        "\n",
        "# Neural network charecteristics:\n",
        "layer_1 = 1024\n",
        "layer_2 = 16\n",
        "layer_3 = 4\n",
        "learning_rate = 0.3\n",
        "epochs = 40\n",
        "batch_size = 16"
      ],
      "metadata": {
        "id": "XIAEXaEedr59"
      },
      "execution_count": null,
      "outputs": []
    },
    {
      "cell_type": "markdown",
      "source": [
        "### read_imgs\n",
        "Loads the dataset into two sections train and test, each containing data in 4 categories of:\n",
        "- Aeroplane\n",
        "- Automobile\n",
        "- Bird\n",
        "- Cat"
      ],
      "metadata": {
        "id": "qkKIsnRJYGeL"
      }
    },
    {
      "cell_type": "code",
      "source": [
        "def read_imgs(path):\n",
        "  i = 0\n",
        "  imgs = np.empty((n_train_samples, width, height, channels), dtype=np.uint8)\n",
        "  labels = np.empty((n_train_samples, n_classes, 1), dtype=int)\n",
        "\n",
        "  os.chdir(path + '/airplane')\n",
        "  for img in os.listdir(os.getcwd()):\n",
        "    imgs[i] = mplimage.imread(img)\n",
        "    labels[i] = [[1],\n",
        "                 [0],\n",
        "                 [0],\n",
        "                 [0]]\n",
        "    i += 1\n",
        "\n",
        "  os.chdir(path + '/automobile')\n",
        "  for img in os.listdir(os.getcwd()):\n",
        "    imgs[i] = mplimage.imread(img)\n",
        "    labels[i] = [[0],\n",
        "                 [1],\n",
        "                 [0],\n",
        "                 [0]]\n",
        "    i += 1\n",
        "\n",
        "  os.chdir(path + '/bird')\n",
        "  for img in os.listdir(os.getcwd()):\n",
        "    imgs[i] = mplimage.imread(img)\n",
        "    labels[i] = [[0],\n",
        "                 [0],\n",
        "                 [1],\n",
        "                 [0]]\n",
        "    i += 1\n",
        "\n",
        "  os.chdir(path + '/cat')\n",
        "  for img in os.listdir(os.getcwd()):\n",
        "    imgs[i] = mplimage.imread(img)\n",
        "    labels[i] = [[0],\n",
        "                 [0],\n",
        "                 [0],\n",
        "                 [1]]\n",
        "    i += 1\n",
        "\n",
        "  return imgs, labels"
      ],
      "metadata": {
        "id": "MStJouTYdwQw"
      },
      "execution_count": null,
      "outputs": []
    },
    {
      "cell_type": "markdown",
      "source": [
        "### rgb2grey\n",
        "Greyscales the RGB input images"
      ],
      "metadata": {
        "id": "kt3wOXFkYe3q"
      }
    },
    {
      "cell_type": "code",
      "source": [
        "def rgb2grey(rgb):\n",
        "  r, g, b = rgb[:, :, :, 0], rgb[:, :, :, 1], rgb[:, :, :, 2]\n",
        "  grey = 0.2989 * r + 0.5870 * g + 0.1140 * b\n",
        "  return grey"
      ],
      "metadata": {
        "id": "mhy4roTqdwdy"
      },
      "execution_count": null,
      "outputs": []
    },
    {
      "cell_type": "markdown",
      "source": [
        "### normalise\n",
        "Normalises the input images"
      ],
      "metadata": {
        "id": "zsV8lxLzYmrV"
      }
    },
    {
      "cell_type": "code",
      "source": [
        "def normalise(data):\n",
        "  return data / 255.0"
      ],
      "metadata": {
        "id": "s6fJjSJSdwmZ"
      },
      "execution_count": null,
      "outputs": []
    },
    {
      "cell_type": "markdown",
      "source": [
        "### shuffle_data\n",
        "Shuffles the input dataset"
      ],
      "metadata": {
        "id": "pLXZ1JdSYtM4"
      }
    },
    {
      "cell_type": "code",
      "source": [
        "def shuffle_data(img_arr, label_arr):\n",
        "  p = np.random.permutation(len(img_arr))\n",
        "  return img_arr[p], label_arr[p]"
      ],
      "metadata": {
        "id": "lZ5nNlzsdwpR"
      },
      "execution_count": null,
      "outputs": []
    },
    {
      "cell_type": "markdown",
      "source": [
        "### sigmoid and sigmoid_prime\n",
        "The activation function and its derivative"
      ],
      "metadata": {
        "id": "dSIsBk6nY0UM"
      }
    },
    {
      "cell_type": "code",
      "source": [
        "def sigmoid(x):\n",
        "  return 1 / (1 + np.exp(-x))"
      ],
      "metadata": {
        "id": "Kjjshuv6eVL5"
      },
      "execution_count": null,
      "outputs": []
    },
    {
      "cell_type": "code",
      "source": [
        "def sigmoid_prime(x):\n",
        "  return sigmoid(x) * (1 - sigmoid(x))"
      ],
      "metadata": {
        "id": "AGg8kipJeZx3"
      },
      "execution_count": null,
      "outputs": []
    },
    {
      "cell_type": "markdown",
      "source": [
        "### initialise_network\n",
        "Initialises the network weights and biases"
      ],
      "metadata": {
        "id": "fTtzUTShY_AV"
      }
    },
    {
      "cell_type": "code",
      "source": [
        "def initialise_network():\n",
        "  l1w = np.random.normal(0, 1, (layer_2, layer_1))\n",
        "  l2w = np.random.normal(0, 1, (layer_2, layer_2))\n",
        "  l3w = np.random.normal(0, 1, (layer_3, layer_2))\n",
        "  l1b = np.zeros((layer_2, 1), dtype=float)\n",
        "  l2b = np.zeros((layer_2, 1), dtype=float)\n",
        "  l3b = np.zeros((layer_3, 1), dtype=float)\n",
        "  weights = [l1w, l2w, l3w]\n",
        "  biases = [l1b, l2b, l3b]\n",
        "  return weights, biases"
      ],
      "metadata": {
        "id": "75pe-TwWeZ5t"
      },
      "execution_count": null,
      "outputs": []
    },
    {
      "cell_type": "markdown",
      "source": [
        "### initialise_gradients\n",
        "Initialises the network weight and bias gradients"
      ],
      "metadata": {
        "id": "8vWiy3zTZHK-"
      }
    },
    {
      "cell_type": "code",
      "source": [
        "def initialise_gradients():\n",
        "  l1gw = np.zeros((layer_2, layer_1), dtype=float)\n",
        "  l2gw = np.zeros((layer_2, layer_2), dtype=float)\n",
        "  l3gw = np.zeros((layer_3, layer_2), dtype=float)\n",
        "  l1gb = np.zeros((layer_2, 1), dtype=float)\n",
        "  l2gb = np.zeros((layer_2, 1), dtype=float)\n",
        "  l3gb = np.zeros((layer_3, 1), dtype=float)\n",
        "  grad_weights = [l1gw, l2gw, l3gw]\n",
        "  grad_biases = [l1gb, l2gb, l3gb]\n",
        "  return grad_weights, grad_biases"
      ],
      "metadata": {
        "id": "adiEOlLAeVWk"
      },
      "execution_count": null,
      "outputs": []
    },
    {
      "cell_type": "markdown",
      "source": [
        "### feed_forward\n",
        "Computes the output for the current image given"
      ],
      "metadata": {
        "id": "6YJ8EjhcZMEk"
      }
    },
    {
      "cell_type": "code",
      "source": [
        "def feed_forward(img, w, b):\n",
        "  z1 = w[0] @ img + b[0]\n",
        "  l1o = sigmoid(z1)\n",
        "  z2 = w[1] @ l1o + b[1]\n",
        "  l2o = sigmoid(z2)\n",
        "  z3 = w[2] @ l2o + b[2]\n",
        "  l3o = sigmoid(z3)\n",
        "  return [l1o, l2o, l3o], [z1, z2, z3]"
      ],
      "metadata": {
        "id": "ctKBa6-9eVf3"
      },
      "execution_count": null,
      "outputs": []
    },
    {
      "cell_type": "markdown",
      "source": [
        "### back_propagate\n",
        "Uses backpropagation to get the weight and bias gradients"
      ],
      "metadata": {
        "id": "RCrZasekZThm"
      }
    },
    {
      "cell_type": "code",
      "source": [
        " def back_propagate(o, z, w, b, img, label):\n",
        "  grad_b2 = (2 * sigmoid_prime(z[2]) * (o[2] - label))\n",
        "  grad_w2 = grad_b2 @ np.transpose(o[1])\n",
        "  grad_o2 = np.transpose(w[2]) @ grad_b2\n",
        "\n",
        "  grad_b1 = sigmoid_prime(z[1]) * grad_o2\n",
        "  grad_w1 = grad_b1 @ np.transpose(o[0])\n",
        "  grad_o1 = np.transpose(w[1]) @ grad_b1\n",
        "\n",
        "  grad_b0 = sigmoid_prime(z[0]) * grad_o1\n",
        "  grad_w0 = grad_b0 @ np.transpose(img)\n",
        "  \n",
        "  return grad_w0, grad_b0, grad_w1, grad_b1, grad_w2, grad_b2 "
      ],
      "metadata": {
        "id": "ZT-uhayxeicX"
      },
      "execution_count": null,
      "outputs": []
    },
    {
      "cell_type": "markdown",
      "source": [
        "#### Loading the data to memory and greyscaling the images"
      ],
      "metadata": {
        "id": "OA3rGqRHZoqn"
      }
    },
    {
      "cell_type": "code",
      "source": [
        "# Load images from the disk\n",
        "train_imgs, train_labels = read_imgs('/content/CIFAR10/train/')\n",
        "test_imgs, test_labels = read_imgs('/content/CIFAR10/test/')\n",
        "\n",
        "# Greyscale the rgb images\n",
        "grey_train_imgs = rgb2grey(train_imgs)\n",
        "grey_test_imgs = rgb2grey(test_imgs)\n",
        "\n",
        "# Normalise the greyscaled images\n",
        "grey_train_imgs = normalise(grey_train_imgs)\n",
        "grey_test_imgs = normalise(grey_test_imgs)\n",
        "\n",
        "# Flatten the image matrices to vectors\n",
        "grey_train_imgs = grey_train_imgs.reshape(-1, 1024, 1)\n",
        "grey_test_imgs = grey_test_imgs.reshape(-1, 1024, 1)\n",
        "\n",
        "# Select a limited set of data\n",
        "actual_train_imgs, actual_train_labels = shuffle_data(grey_train_imgs, train_labels)\n",
        "\n",
        "costs = np.zeros((epochs,), dtype=float)\n",
        "corrects = np.zeros((epochs,), dtype=float)"
      ],
      "metadata": {
        "id": "jtJsxQxI1cpy"
      },
      "execution_count": null,
      "outputs": []
    },
    {
      "cell_type": "markdown",
      "source": [
        "#### Starting the algorithm\n",
        "Repeating the algorithm 10 times"
      ],
      "metadata": {
        "id": "pMkhZflZaLN-"
      }
    },
    {
      "cell_type": "code",
      "source": [
        "repetitions = 10\n",
        "for _ in range(repetitions):\n",
        "\n",
        "  # Initialise the network basic configurations - weights and biases\n",
        "  w, b = initialise_network()\n",
        "\n",
        "  # Process the input data\n",
        "  for i in range(epochs):\n",
        "    \n",
        "    correct_guesses = 0\n",
        "    costs_total = 0\n",
        "    \n",
        "    # Shuffle the input data\n",
        "    actual_train_imgs, actual_train_labels = shuffle_data(actual_train_imgs, actual_train_labels)\n",
        "    \n",
        "    for j in range(0, n_actual, batch_size):\n",
        "      \n",
        "      # Break the input data into batches\n",
        "      batch_imgs = actual_train_imgs[j : j + batch_size]\n",
        "      batch_labels = actual_train_labels[j : j + batch_size]\n",
        "      gw, gb = initialise_gradients()\n",
        "\n",
        "      for img, label in zip(batch_imgs, batch_labels):\n",
        "\n",
        "        # Compute the network output for the current image\n",
        "        o, z = feed_forward(img, w, b)\n",
        "        costs_total += np.sum((o[2] - label) ** 2)\n",
        "\n",
        "        # Backpropagate the error to update the weights and biases    \n",
        "        grad_w0, grad_b0, grad_w1, grad_b1, grad_w2, grad_b2 = back_propagate(o, z, w, b, img, label)\n",
        "        gw[0] += grad_w0\n",
        "        gw[1] += grad_w1\n",
        "        gw[2] += grad_w2\n",
        "        gb[0] += grad_b0\n",
        "        gb[1] += grad_b1\n",
        "        gb[2] += grad_b2\n",
        "        \n",
        "        # Check if the model had predicted the current image correctly\n",
        "        if np.argmax(o[2]) == np.argmax(label):\n",
        "          correct_guesses += 1\n",
        "    \n",
        "      # Update weights and biases\n",
        "      coef = learning_rate / batch_size\n",
        "      for r in range(3):\n",
        "        w[r] -= coef * gw[r]\n",
        "        b[r] -= coef * gb[r]\n",
        "\n",
        "    # Record corrects and costs\n",
        "    corrects[i] += correct_guesses\n",
        "    costs[i] += costs_total"
      ],
      "metadata": {
        "id": "LqfjZ-l_MxnE"
      },
      "execution_count": null,
      "outputs": []
    },
    {
      "cell_type": "markdown",
      "source": [
        "#### Output the results for accuracy and loss respectively\n",
        "For the vectorised version, the accuracy rises to above 50% after 40 epochs and the cost falls under 0.6."
      ],
      "metadata": {
        "id": "Eo4FGG3GauYv"
      }
    },
    {
      "cell_type": "code",
      "source": [
        "x = np.linspace(0, epochs, num=epochs, endpoint=False, dtype=int)\n",
        "coef = repetitions * n_actual\n",
        "corrects /= coef\n",
        "costs /= coef\n",
        "\n",
        "pyplot.subplot(2, 1, 1)\n",
        "pyplot.plot(x, corrects, title='Accuracy')\n",
        "\n",
        "pyplot.subplot(2, 1, 2)\n",
        "pyplot.plot(x, costs, title='Loss')"
      ],
      "metadata": {
        "id": "9TbXpG1n3Grs",
        "colab": {
          "base_uri": "https://localhost:8080/",
          "height": 282
        },
        "outputId": "4e6e0127-32a0-4f64-992f-b02eabda802e"
      },
      "execution_count": null,
      "outputs": [
        {
          "output_type": "execute_result",
          "data": {
            "text/plain": [
              "[<matplotlib.lines.Line2D at 0x7f5066ede150>]"
            ]
          },
          "metadata": {},
          "execution_count": 17
        },
        {
          "output_type": "display_data",
          "data": {
            "text/plain": [
              "<Figure size 432x288 with 2 Axes>"
            ],
            "image/png": "[encoded data removed]"
          },
          "metadata": {
            "needs_background": "light"
          }
        }
      ]
    },
    {
      "cell_type": "markdown",
      "source": [
        "# Accuracy of the unvectorised model:\n",
        "The unvectorised version of the model runs on average for 30s to process 800 input images of 4 classes.\n",
        "The accuracy of such a model can vary between 28% to 31%."
      ],
      "metadata": {
        "id": "dM4Y51iNb2iM"
      }
    },
    {
      "cell_type": "markdown",
      "source": [
        "# Accuracy of the vectorised model:\n",
        "The vectorised version of the model runs on average for 3 minutes to process 20000 input images of 4 classes.\n",
        "The accuracy of such a model can rise up to 55%."
      ],
      "metadata": {
        "id": "JHkrrm75oYES"
      }
    },
    {
      "cell_type": "markdown",
      "source": [
        "# Testing the model on test images\n",
        "The accuracy of the model on test data runs around 53-55%."
      ],
      "metadata": {
        "id": "UciJ3ZvFc1n6"
      }
    },
    {
      "cell_type": "code",
      "source": [
        "accuracy = 0\n",
        "test_cost = 0\n",
        "for img, label in zip(grey_test_imgs, test_labels):\n",
        "  o, z = feed_forward(img, w, b)\n",
        "  if np.argmax(o[2]) == np.argmax(label):\n",
        "    accuracy += 1\n",
        "  test_cost += np.sum((o[2] - label) ** 2)\n",
        "\n",
        "accuracy /= n_test_samples\n",
        "test_cost /= n_test_samples\n",
        "\n",
        "print('Validation Accuracy: {}'.format(accuracy))\n",
        "print('Validation Loss: {}'.format(test_cost))"
      ],
      "metadata": {
        "id": "DKrEMM5NmwMu",
        "colab": {
          "base_uri": "https://localhost:8080/"
        },
        "outputId": "4127be61-de2d-4b1d-8198-24c84563a8b4"
      },
      "execution_count": null,
      "outputs": [
        {
          "output_type": "stream",
          "name": "stdout",
          "text": [
            "Validation Accuracy: 0.5415\n",
            "Validation Loss: 1.7441909542281724\n"
          ]
        }
      ]
    }
  ]
}