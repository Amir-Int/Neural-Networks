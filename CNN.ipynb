{
  "nbformat": 4,
  "nbformat_minor": 0,
  "metadata": {
    "colab": {
      "name": "CNN.ipynb",
      "provenance": [],
      "authorship_tag": "ABX9TyM0ceG3ACtRJ4n+em8HQ4fO"
    },
    "kernelspec": {
      "name": "python3",
      "display_name": "Python 3"
    },
    "language_info": {
      "name": "python"
    },
    "accelerator": "GPU"
  },
  "cells": [
    {
      "cell_type": "markdown",
      "source": [
        "# CNN\n",
        "In this section we attempt to model a convolutional neural network without regularisation method. This model gets overfit to the train data such that it does not perform well on test data."
      ],
      "metadata": {
        "id": "UKfv-yeMeiQW"
      }
    },
    {
      "cell_type": "markdown",
      "source": [
        "# Setup"
      ],
      "metadata": {
        "id": "dgBa4JOTfEC7"
      }
    },
    {
      "cell_type": "code",
      "source": [
        "from tensorflow import keras\n",
        "from keras import datasets, layers, losses\n",
        "import numpy as np\n",
        "import matplotlib.pyplot as pyplot"
      ],
      "metadata": {
        "id": "nFHv7djvedUf"
      },
      "execution_count": null,
      "outputs": []
    },
    {
      "cell_type": "markdown",
      "source": [
        "# Loading and normalising the data"
      ],
      "metadata": {
        "id": "d0tAPD5QiCiX"
      }
    },
    {
      "cell_type": "code",
      "source": [
        "(train_imgs, train_labels), (test_imgs, test_labels) = datasets.cifar10.load_data()\n",
        "train_imgs, test_imgs = train_imgs / 255.0, test_imgs / 255.0"
      ],
      "metadata": {
        "id": "qLAGbV01eVhn"
      },
      "execution_count": null,
      "outputs": []
    },
    {
      "cell_type": "markdown",
      "source": [
        "# Defining the classes"
      ],
      "metadata": {
        "id": "ehTwflleiJTx"
      }
    },
    {
      "cell_type": "code",
      "source": [
        "classes = ['aeroplane', 'automobile', 'bird', 'cat', 'deer', 'dog', 'frog', 'horse', 'ship', 'truck']"
      ],
      "metadata": {
        "id": "j8RO_GkhoJlA"
      },
      "execution_count": null,
      "outputs": []
    },
    {
      "cell_type": "markdown",
      "source": [
        "# Creating the model based on the given architecture"
      ],
      "metadata": {
        "id": "6U9u3N_KiM0d"
      }
    },
    {
      "cell_type": "code",
      "source": [
        "model = keras.Sequential([\n",
        "  layers.Conv2D(32, (3, 3), padding='same', kernel_initializer='he_uniform', activation='relu', input_shape=(32, 32, 3)),\n",
        "  layers.Conv2D(32, (3, 3), padding='same', kernel_initializer='he_uniform', activation='relu'),\n",
        "  layers.MaxPool2D((2, 2)),\n",
        "\n",
        "  layers.Conv2D(64, (3, 3), padding='same', kernel_initializer='he_uniform', activation='relu'),\n",
        "  layers.Conv2D(64, (3, 3), padding='same', kernel_initializer='he_uniform', activation='relu'),\n",
        "  layers.MaxPool2D((2, 2)),\n",
        "\n",
        "  layers.Conv2D(128, (3, 3), padding='same', kernel_initializer='he_uniform', activation='relu'),\n",
        "  layers.Conv2D(128, (3, 3), padding='same', kernel_initializer='he_uniform', activation='relu'),\n",
        "  layers.MaxPool2D((2, 2)),\n",
        "\n",
        "  layers.Conv2D(128, (3, 3), padding='same', kernel_initializer='he_uniform', activation='relu'),\n",
        "  layers.Conv2D(128, (3, 3), padding='same', kernel_initializer='he_uniform', activation='relu'),\n",
        "  layers.MaxPool2D((2, 2)),\n",
        "\n",
        "  layers.Flatten(),\n",
        "  layers.Dense(128, kernel_initializer='he_uniform', activation='relu'),\n",
        "  layers.Dense(128, kernel_initializer='he_uniform', activation='relu'),\n",
        "  layers.Dense(64, kernel_initializer='he_uniform', activation='relu'),\n",
        "  layers.Dense(10, kernel_initializer='he_uniform', activation='softmax'),\n",
        "  \n",
        "])"
      ],
      "metadata": {
        "id": "92QoiiQepgqI"
      },
      "execution_count": null,
      "outputs": []
    },
    {
      "cell_type": "code",
      "source": [
        "model.summary()"
      ],
      "metadata": {
        "colab": {
          "base_uri": "https://localhost:8080/"
        },
        "id": "8lmojgh5tJHr",
        "outputId": "2ce3ba27-193c-48a4-d76a-51663d446bfb"
      },
      "execution_count": null,
      "outputs": [
        {
          "output_type": "stream",
          "name": "stdout",
          "text": [
            "Model: \"sequential\"\n",
            "_________________________________________________________________\n",
            " Layer (type)                Output Shape              Param #   \n",
            "=================================================================\n",
            " conv2d (Conv2D)             (None, 32, 32, 32)        896       \n",
            "                                                                 \n",
            " conv2d_1 (Conv2D)           (None, 32, 32, 32)        9248      \n",
            "                                                                 \n",
            " max_pooling2d (MaxPooling2D  (None, 16, 16, 32)       0         \n",
            " )                                                               \n",
            "                                                                 \n",
            " conv2d_2 (Conv2D)           (None, 16, 16, 64)        18496     \n",
            "                                                                 \n",
            " conv2d_3 (Conv2D)           (None, 16, 16, 64)        36928     \n",
            "                                                                 \n",
            " max_pooling2d_1 (MaxPooling  (None, 8, 8, 64)         0         \n",
            " 2D)                                                             \n",
            "                                                                 \n",
            " conv2d_4 (Conv2D)           (None, 8, 8, 128)         73856     \n",
            "                                                                 \n",
            " conv2d_5 (Conv2D)           (None, 8, 8, 128)         147584    \n",
            "                                                                 \n",
            " max_pooling2d_2 (MaxPooling  (None, 4, 4, 128)        0         \n",
            " 2D)                                                             \n",
            "                                                                 \n",
            " conv2d_6 (Conv2D)           (None, 4, 4, 128)         147584    \n",
            "                                                                 \n",
            " conv2d_7 (Conv2D)           (None, 4, 4, 128)         147584    \n",
            "                                                                 \n",
            " max_pooling2d_3 (MaxPooling  (None, 2, 2, 128)        0         \n",
            " 2D)                                                             \n",
            "                                                                 \n",
            " flatten (Flatten)           (None, 512)               0         \n",
            "                                                                 \n",
            " dense (Dense)               (None, 128)               65664     \n",
            "                                                                 \n",
            " dense_1 (Dense)             (None, 128)               16512     \n",
            "                                                                 \n",
            " dense_2 (Dense)             (None, 64)                8256      \n",
            "                                                                 \n",
            " dense_3 (Dense)             (None, 10)                650       \n",
            "                                                                 \n",
            "=================================================================\n",
            "Total params: 673,258\n",
            "Trainable params: 673,258\n",
            "Non-trainable params: 0\n",
            "_________________________________________________________________\n"
          ]
        }
      ]
    },
    {
      "cell_type": "markdown",
      "source": [
        "# Compiling the model using the 'adam' optimisation method"
      ],
      "metadata": {
        "id": "AZLHGlmniVYq"
      }
    },
    {
      "cell_type": "code",
      "source": [
        "model.compile(optimizer='adam', loss=losses.SparseCategoricalCrossentropy(), metrics=['accuracy'])"
      ],
      "metadata": {
        "id": "I0SrPK_otmUL"
      },
      "execution_count": null,
      "outputs": []
    },
    {
      "cell_type": "markdown",
      "source": [
        "# Training the model"
      ],
      "metadata": {
        "id": "h3G1wd_vigEk"
      }
    },
    {
      "cell_type": "code",
      "source": [
        "history = model.fit(train_imgs, train_labels, batch_size=50, epochs=25, validation_data=(test_imgs, test_labels))"
      ],
      "metadata": {
        "colab": {
          "base_uri": "https://localhost:8080/"
        },
        "id": "F6589s-8u0ky",
        "outputId": "830fd378-32fa-4166-f954-d72c962654fb"
      },
      "execution_count": null,
      "outputs": [
        {
          "output_type": "stream",
          "name": "stdout",
          "text": [
            "Epoch 1/25\n",
            "1000/1000 [==============================] - 36s 25ms/step - loss: 1.6046 - accuracy: 0.4060 - val_loss: 1.3491 - val_accuracy: 0.5042\n",
            "Epoch 2/25\n",
            "1000/1000 [==============================] - 26s 26ms/step - loss: 1.0842 - accuracy: 0.6146 - val_loss: 1.0324 - val_accuracy: 0.6364\n",
            "Epoch 3/25\n",
            "1000/1000 [==============================] - 25s 25ms/step - loss: 0.8392 - accuracy: 0.7048 - val_loss: 0.8429 - val_accuracy: 0.7082\n",
            "Epoch 4/25\n",
            "1000/1000 [==============================] - 24s 24ms/step - loss: 0.6872 - accuracy: 0.7624 - val_loss: 0.7506 - val_accuracy: 0.7439\n",
            "Epoch 5/25\n",
            "1000/1000 [==============================] - 24s 24ms/step - loss: 0.5747 - accuracy: 0.8021 - val_loss: 0.7747 - val_accuracy: 0.7457\n",
            "Epoch 6/25\n",
            "1000/1000 [==============================] - 25s 25ms/step - loss: 0.4973 - accuracy: 0.8279 - val_loss: 0.7411 - val_accuracy: 0.7538\n",
            "Epoch 7/25\n",
            "1000/1000 [==============================] - 24s 24ms/step - loss: 0.4275 - accuracy: 0.8513 - val_loss: 0.7706 - val_accuracy: 0.7578\n",
            "Epoch 8/25\n",
            "1000/1000 [==============================] - 25s 25ms/step - loss: 0.3672 - accuracy: 0.8732 - val_loss: 0.7845 - val_accuracy: 0.7625\n",
            "Epoch 9/25\n",
            "1000/1000 [==============================] - 24s 24ms/step - loss: 0.3256 - accuracy: 0.8898 - val_loss: 0.8069 - val_accuracy: 0.7619\n",
            "Epoch 10/25\n",
            "1000/1000 [==============================] - 25s 25ms/step - loss: 0.2880 - accuracy: 0.9014 - val_loss: 0.8172 - val_accuracy: 0.7710\n",
            "Epoch 11/25\n",
            "1000/1000 [==============================] - 25s 25ms/step - loss: 0.2562 - accuracy: 0.9127 - val_loss: 0.8793 - val_accuracy: 0.7675\n",
            "Epoch 12/25\n",
            "1000/1000 [==============================] - 25s 25ms/step - loss: 0.2365 - accuracy: 0.9211 - val_loss: 0.8968 - val_accuracy: 0.7569\n",
            "Epoch 13/25\n",
            "1000/1000 [==============================] - 24s 24ms/step - loss: 0.2164 - accuracy: 0.9280 - val_loss: 0.9564 - val_accuracy: 0.7650\n",
            "Epoch 14/25\n",
            "1000/1000 [==============================] - 24s 24ms/step - loss: 0.1940 - accuracy: 0.9341 - val_loss: 1.0167 - val_accuracy: 0.7557\n",
            "Epoch 15/25\n",
            "1000/1000 [==============================] - 24s 24ms/step - loss: 0.1914 - accuracy: 0.9358 - val_loss: 1.0258 - val_accuracy: 0.7632\n",
            "Epoch 16/25\n",
            "1000/1000 [==============================] - 24s 24ms/step - loss: 0.1708 - accuracy: 0.9422 - val_loss: 1.0507 - val_accuracy: 0.7661\n",
            "Epoch 17/25\n",
            "1000/1000 [==============================] - 25s 25ms/step - loss: 0.1652 - accuracy: 0.9447 - val_loss: 1.0218 - val_accuracy: 0.7669\n",
            "Epoch 18/25\n",
            "1000/1000 [==============================] - 24s 24ms/step - loss: 0.1619 - accuracy: 0.9460 - val_loss: 1.0824 - val_accuracy: 0.7696\n",
            "Epoch 19/25\n",
            "1000/1000 [==============================] - 24s 24ms/step - loss: 0.1511 - accuracy: 0.9508 - val_loss: 1.0940 - val_accuracy: 0.7632\n",
            "Epoch 20/25\n",
            "1000/1000 [==============================] - 25s 25ms/step - loss: 0.1431 - accuracy: 0.9531 - val_loss: 1.0570 - val_accuracy: 0.7640\n",
            "Epoch 21/25\n",
            "1000/1000 [==============================] - 25s 25ms/step - loss: 0.1472 - accuracy: 0.9527 - val_loss: 1.0445 - val_accuracy: 0.7594\n",
            "Epoch 22/25\n",
            "1000/1000 [==============================] - 25s 25ms/step - loss: 0.1335 - accuracy: 0.9564 - val_loss: 1.1948 - val_accuracy: 0.7567\n",
            "Epoch 23/25\n",
            "1000/1000 [==============================] - 24s 24ms/step - loss: 0.1326 - accuracy: 0.9570 - val_loss: 1.1874 - val_accuracy: 0.7647\n",
            "Epoch 24/25\n",
            "1000/1000 [==============================] - 24s 24ms/step - loss: 0.1303 - accuracy: 0.9584 - val_loss: 1.0769 - val_accuracy: 0.7588\n",
            "Epoch 25/25\n",
            "1000/1000 [==============================] - 24s 24ms/step - loss: 0.1118 - accuracy: 0.9642 - val_loss: 1.1123 - val_accuracy: 0.7761\n"
          ]
        }
      ]
    },
    {
      "cell_type": "markdown",
      "source": [
        "# The accuracy of the model\n",
        "The results illustrate that the model has depended too much on the training data that it fails to predict the correct classes while encountering the test data "
      ],
      "metadata": {
        "id": "H_ZKJ9CMiltx"
      }
    },
    {
      "cell_type": "code",
      "source": [
        "pyplot.plot(history.history['accuracy'], label='Accuary')\n",
        "pyplot.plot(history.history['val_accuracy'], label='Validation Accuracy')"
      ],
      "metadata": {
        "colab": {
          "base_uri": "https://localhost:8080/",
          "height": 282
        },
        "id": "AtpHC6sIwFTn",
        "outputId": "cf228c51-b2c7-4408-824c-739b2dc98e9a"
      },
      "execution_count": null,
      "outputs": [
        {
          "output_type": "execute_result",
          "data": {
            "text/plain": [
              "[<matplotlib.lines.Line2D at 0x7f75200aba50>]"
            ]
          },
          "metadata": {},
          "execution_count": 8
        },
        {
          "output_type": "display_data",
          "data": {
            "text/plain": [
              "<Figure size 432x288 with 1 Axes>"
            ],
            "image/png": "[encoded data removed]"
          },
          "metadata": {
            "needs_background": "light"
          }
        }
      ]
    },
    {
      "cell_type": "code",
      "source": [
        "test_loss, test_accuracy = model.evaluate(test_imgs, test_labels)"
      ],
      "metadata": {
        "colab": {
          "base_uri": "https://localhost:8080/"
        },
        "id": "_inHTwea3Lve",
        "outputId": "5be52593-e9ac-497a-ff77-2d09bd8883d6"
      },
      "execution_count": null,
      "outputs": [
        {
          "output_type": "stream",
          "name": "stdout",
          "text": [
            "313/313 [==============================] - 3s 8ms/step - loss: 1.1123 - accuracy: 0.7761\n"
          ]
        }
      ]
    }
  ]
}